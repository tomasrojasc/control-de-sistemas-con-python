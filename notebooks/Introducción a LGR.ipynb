{
 "cells": [
  {
   "cell_type": "markdown",
   "metadata": {},
   "source": [
    "# Introducción a LGR"
   ]
  },
  {
   "cell_type": "code",
   "execution_count": null,
   "metadata": {
    "ExecuteTime": {
     "end_time": "2021-04-17T14:04:17.685699Z",
     "start_time": "2021-04-17T14:04:14.888101Z"
    }
   },
   "outputs": [],
   "source": [
    "import control\n",
    "from utils import closed_loop, PID\n",
    "import numpy as np\n",
    "from matplotlib.markers import MarkerStyle\n",
    "import matplotlib.pyplot as plt"
   ]
  },
  {
   "cell_type": "markdown",
   "metadata": {},
   "source": [
    "Vamos a trabajar con el sistema dado por la siguiente ecuación de transferencia:\n",
    "\n",
    "$$\n",
    "\\frac{s+1}{s^2+20s+300}\n",
    "$$\n",
    "\n",
    "Primero vamos a ver el LGR con la función `root_locus` de la librería `control`"
   ]
  },
  {
   "cell_type": "code",
   "execution_count": null,
   "metadata": {
    "ExecuteTime": {
     "end_time": "2021-04-17T14:04:19.673694Z",
     "start_time": "2021-04-17T14:04:17.698665Z"
    }
   },
   "outputs": [],
   "source": [
    "S = control.TransferFunction([1, 1], [1, 20, 300])\n",
    "plt.figure(figsize=(15, 10))\n",
    "_ = control.root_locus(S, xlim=(-20, 0))"
   ]
  },
  {
   "cell_type": "markdown",
   "metadata": {},
   "source": [
    "Podemos ver que las líneas correspondientes a la coordenada $\\theta$ polar están etiquetadas con el valor del amortiguamiento, en este caso vemos que el amortiguamiento del sistema es $\\xi\\approx 0.6$. Por otro lado el módulo a los polos nos da el valor de la frecuencia natural del sistema, ahora mismo estamos conciderando que estamos en los puntos marcados por `x` azules que es donde $K=1$, por lo tanto el valor de $\\omega_n \\approx 17.3$\n",
    "\n",
    "Con estos datos podemos calcular un estimado para $t_s$ que es el tiempo de estabilización. \n",
    "\n",
    "$$\n",
    "t_s \\approx \\frac{3.2}{\\xi \\omega_n} \\approx 0.31 [\\text{s}]\n",
    "$$\n",
    "\n",
    "esta aproximación sirve para $\\xi \\in [0, 0.69]$\n",
    "\n",
    "Veamos la respuesta del sistema en lazo cerrado con $K=1$ (que es lo mismo que solo ver la respuesta del sistema solo en lazo cerrado)"
   ]
  },
  {
   "cell_type": "code",
   "execution_count": null,
   "metadata": {
    "ExecuteTime": {
     "end_time": "2021-04-17T14:04:20.578100Z",
     "start_time": "2021-04-17T14:04:19.679734Z"
    }
   },
   "outputs": [],
   "source": [
    "t, y = control.step_response(S)\n",
    "plt.figure(figsize=(15, 5))\n",
    "plt.xlabel(\"Tiempo [s]\")\n",
    "plt.ylabel(\"respuesta al escalón y(t)\")\n",
    "plt.vlines(.31, 0, .03, \"r\", '--')\n",
    "plt.plot(t, y)\n",
    "plt.grid()\n",
    "plt.text(.32, .028, \"Estimación\", c=\"red\")\n",
    "plt.title(\"Respuesta del sistema en lazo cerrado con $K=1$\");"
   ]
  },
  {
   "cell_type": "markdown",
   "metadata": {},
   "source": [
    "Ahora vamos a probar con $K=10$"
   ]
  },
  {
   "cell_type": "code",
   "execution_count": null,
   "metadata": {
    "ExecuteTime": {
     "end_time": "2021-04-17T14:04:22.766595Z",
     "start_time": "2021-04-17T14:04:20.582365Z"
    }
   },
   "outputs": [],
   "source": [
    "S_ = S * PID(10, 0, 0)\n",
    "plt.figure(figsize=(15, 10))\n",
    "_ = control.root_locus(S, xlim=(-20, 0))\n",
    "plt.scatter(closed_loop(S_).pole().real, closed_loop(S_).pole().imag, c='r', s=100);"
   ]
  },
  {
   "cell_type": "markdown",
   "metadata": {
    "ExecuteTime": {
     "end_time": "2021-04-16T20:25:31.622392Z",
     "start_time": "2021-04-16T20:25:31.613904Z"
    }
   },
   "source": [
    "Podemos ver que los nuevos polos están donde están los puntos rojos.\n",
    "\n",
    "Con estos nueos valores podemos nuevamente estimar $t_s$. Tenemos que encontrar $\\xi$ y $\\omega_n$ ahora tenemos que usar otra aproximación\n",
    "\n",
    "$$\n",
    "t_s\\approx \\frac{4.5 \\xi}{\\omega_n}\n",
    "$$\n",
    "\n",
    "pues $\\xi>0.69$\n",
    "\n",
    "Afortunadamente no hace falta que escribamos funciones para esto pues `control` nos permite hacer esto con `TransferFunction.damp()` \n"
   ]
  },
  {
   "cell_type": "code",
   "execution_count": null,
   "metadata": {
    "ExecuteTime": {
     "end_time": "2021-04-17T14:04:22.776255Z",
     "start_time": "2021-04-17T14:04:22.768791Z"
    }
   },
   "outputs": [],
   "source": [
    "w_n, xi, _ = closed_loop(S_).damp()\n",
    "t_s = 4.5 * xi / w_n\n",
    "t_s = t_s[0]\n",
    "t_s"
   ]
  },
  {
   "cell_type": "markdown",
   "metadata": {
    "ExecuteTime": {
     "end_time": "2021-04-16T23:23:48.421722Z",
     "start_time": "2021-04-16T23:23:48.402307Z"
    }
   },
   "source": [
    "Así obtenemos que $t_s\\approx 0.21$. Veamos la respuesta para ver si tiene sentido"
   ]
  },
  {
   "cell_type": "code",
   "execution_count": null,
   "metadata": {
    "ExecuteTime": {
     "end_time": "2021-04-17T14:04:23.525596Z",
     "start_time": "2021-04-17T14:04:22.781857Z"
    }
   },
   "outputs": [],
   "source": [
    "t, y = control.step_response(closed_loop(S_))\n",
    "plt.figure(figsize=(15, 5))\n",
    "plt.xlabel(\"Tiempo [s]\")\n",
    "plt.ylabel(\"respuesta al escalón y(t)\")\n",
    "plt.vlines(.22, 0, .25, \"r\", '--')\n",
    "plt.plot(t, y)\n",
    "plt.grid()\n",
    "plt.text(.23, .23, \"Estimación\", c=\"red\")\n",
    "plt.title(\"Respuesta del sistema en lazo cerrado con $K=10$\");"
   ]
  },
  {
   "cell_type": "markdown",
   "metadata": {},
   "source": [
    "Finalmente intentemos aumentar aún más el valor de $K$, con $K=20$"
   ]
  },
  {
   "cell_type": "code",
   "execution_count": null,
   "metadata": {
    "ExecuteTime": {
     "end_time": "2021-04-17T14:04:26.429747Z",
     "start_time": "2021-04-17T14:04:23.557551Z"
    }
   },
   "outputs": [],
   "source": [
    "S_ = S * PID(20, 0, 0)\n",
    "plt.figure(figsize=(15, 10))\n",
    "_ = control.root_locus(S, xlim=(-35, 0))\n",
    "plt.scatter(closed_loop(S_).pole().real, closed_loop(S_).pole().imag, c='r', s=100);"
   ]
  },
  {
   "cell_type": "code",
   "execution_count": null,
   "metadata": {
    "ExecuteTime": {
     "end_time": "2021-04-17T14:04:26.502182Z",
     "start_time": "2021-04-17T14:04:26.435863Z"
    }
   },
   "outputs": [],
   "source": [
    "w_n, xi, _ = closed_loop(S_).damp()\n",
    "t_s = 4.5 * xi / w_n\n",
    "t_s = t_s[0]\n",
    "t_s"
   ]
  },
  {
   "cell_type": "code",
   "execution_count": null,
   "metadata": {
    "ExecuteTime": {
     "end_time": "2021-04-17T14:04:27.137305Z",
     "start_time": "2021-04-17T14:04:26.508091Z"
    }
   },
   "outputs": [],
   "source": [
    "t, y = control.step_response(closed_loop(S_))\n",
    "plt.figure(figsize=(15, 5))\n",
    "plt.xlabel(\"Tiempo [s]\")\n",
    "plt.ylabel(\"respuesta al escalón y(t)\")\n",
    "plt.vlines(.16, 0, .4, \"r\", '--')\n",
    "plt.plot(t, y)\n",
    "plt.grid()\n",
    "plt.text(.17, .36, \"Estimación\", c=\"red\")\n",
    "plt.title(\"Respuesta del sistema en lazo cerrado con $K=10$\");"
   ]
  },
  {
   "cell_type": "markdown",
   "metadata": {},
   "source": [
    "Por algún motivo las estimaciones no son muy buenas, por lo que quizá sea mejor usar la siguiente fórmulas:\n",
    "\n",
    "\n",
    "$$\n",
    "t_s = -\\frac{\\log\\left(s \\sqrt{1-\\xi^2}\\right)}{\\xi \\omega_n}\n",
    "$$\n",
    "\n",
    "donde $s$ es el valor de estabilización"
   ]
  }
 ],
 "metadata": {
  "hide_input": false,
  "kernelspec": {
   "display_name": "control_venv",
   "language": "python",
   "name": "control_venv"
  },
  "language_info": {
   "codemirror_mode": {
    "name": "ipython",
    "version": 3
   },
   "file_extension": ".py",
   "mimetype": "text/x-python",
   "name": "python",
   "nbconvert_exporter": "python",
   "pygments_lexer": "ipython3",
   "version": "3.9.2"
  },
  "toc": {
   "base_numbering": 1,
   "nav_menu": {},
   "number_sections": true,
   "sideBar": true,
   "skip_h1_title": false,
   "title_cell": "Table of Contents",
   "title_sidebar": "Contents",
   "toc_cell": false,
   "toc_position": {},
   "toc_section_display": true,
   "toc_window_display": false
  }
 },
 "nbformat": 4,
 "nbformat_minor": 4
}
