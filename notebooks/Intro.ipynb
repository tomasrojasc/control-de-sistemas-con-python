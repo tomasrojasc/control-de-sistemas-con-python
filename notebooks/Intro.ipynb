{
 "cells": [
  {
   "cell_type": "markdown",
   "metadata": {},
   "source": [
    "# Cómo usar `control`"
   ]
  },
  {
   "cell_type": "code",
   "execution_count": null,
   "metadata": {
    "ExecuteTime": {
     "end_time": "2021-04-16T00:43:09.006057Z",
     "start_time": "2021-04-16T00:43:05.085399Z"
    }
   },
   "outputs": [],
   "source": [
    "import control\n",
    "import numpy as np\n",
    "import matplotlib.pyplot as plt\n",
    "import matplotlib\n",
    "matplotlib.rcParams['figure.figsize'] = (15, 5)"
   ]
  },
  {
   "cell_type": "markdown",
   "metadata": {
    "ExecuteTime": {
     "end_time": "2021-04-15T23:03:52.820395Z",
     "start_time": "2021-04-15T23:03:52.814064Z"
    }
   },
   "source": [
    "Vamos a trabajar con el sistema isto en el video 3 (no hace falta ver el video para seguir este tutorial) que tiene la siguiente función de transferencia\n",
    "\n",
    "$$\n",
    "G = \\frac{1}{(s+3)(s^2+1.4s+100)}\n",
    "$$\n",
    "\n",
    "En `control` existe la clase `TransferFunction` la que nos permite escribir una función de transferencia dado el numerador y el denominador en numpy arrays (o listas), donde los coeficientes son $[a_0s^n, ... , a_{n-1}s^0]$ así por ejemplo, el polinomio $3s^3 + s + 40$ iene dado por un array cuyo contenido es $[3, 0, 1, 40]$.\n",
    "\n",
    "Los objetos que representan las funciones de transferencia aceptan multiplicaciones, por lo que si tenemos las variables `tf1` y `tf2`, ambas funciones de transferencia, podemos simplemente multiplicarlas con el operador `*`. Vamos a aplicar esto notando que $G$ está compuesta de dos funciones de transferencia multiplicadas $G_1$ y $G_2$.\n",
    "\n",
    "\n",
    "$$\n",
    "\\begin{align}\n",
    "    G_1 &= \\frac{1}{s+3}\\\\\n",
    "    G_2 &= \\frac{1}{s^2+1.4s+100}\n",
    "\\end{align}\n",
    "$$\n",
    "\n",
    "A continuación se implementa esto en python"
   ]
  },
  {
   "cell_type": "code",
   "execution_count": null,
   "metadata": {
    "ExecuteTime": {
     "end_time": "2021-04-16T00:43:09.051415Z",
     "start_time": "2021-04-16T00:43:09.008919Z"
    }
   },
   "outputs": [],
   "source": [
    "G_1 = control.TransferFunction(1, [1, 3])\n",
    "G_2 = control.TransferFunction(1, [1, 1.4, 100])\n",
    "G = G_1 * G_2\n",
    "\n",
    "G"
   ]
  },
  {
   "cell_type": "markdown",
   "metadata": {},
   "source": [
    "Podemos ver que la representación de las funciones de transferencia queda bonita ❤️\n",
    "\n",
    "\n",
    "`control` nos permite poder ver fácilmente la respuesta al escalón utilizando `control.step_response`\n"
   ]
  },
  {
   "cell_type": "code",
   "execution_count": null,
   "metadata": {
    "ExecuteTime": {
     "end_time": "2021-04-16T00:43:09.874212Z",
     "start_time": "2021-04-16T00:43:09.067153Z"
    }
   },
   "outputs": [],
   "source": [
    "t, y = control.step_response(G)\n",
    "\n",
    "plt.figure()\n",
    "plt.grid()\n",
    "plt.xlabel(\"Tiempo [s]\")\n",
    "plt.ylabel(\"respuesta al escalón y(t)\")\n",
    "plt.plot(t, y);"
   ]
  },
  {
   "cell_type": "markdown",
   "metadata": {},
   "source": [
    "Hasta ahora hemos isto la función de transferencia en __lazo abierto__, si queremos ver la respuesta en lazo cerrado tenemos que poner un controlador, veamos el caso del controlador PID:\n",
    "\n",
    "\n",
    "La nueva función de transferencia de lazo cerrado tiene la forma \n",
    "\n",
    "$$\n",
    "TF = \\frac{\\{\\text{PID}\\} G}{1 + \\{\\text{PID}\\} G}\n",
    "$$\n",
    "\n",
    "donde $\\{PID\\}$ corresponde a la función de transferencia del bloque $\\text{PID}$\n",
    "\n",
    "El bloque PID es \n",
    "\n",
    "$$\n",
    "\\text{PID} = K_p + \\frac{K_i}{s} + K_d s\n",
    "$$\n",
    "\n",
    "\n",
    "Así podemos crear una clase PID que representa este bloque"
   ]
  },
  {
   "cell_type": "code",
   "execution_count": null,
   "metadata": {
    "ExecuteTime": {
     "end_time": "2021-04-16T00:43:09.948345Z",
     "start_time": "2021-04-16T00:43:09.916436Z"
    }
   },
   "outputs": [],
   "source": [
    "class PID(control.TransferFunction):\n",
    "    def __init__(self, k_p, k_i, k_d):\n",
    "        \"\"\"\n",
    "        Clase que representa el bloque PID a la que hay que entregar\n",
    "        k_p, k_i y k_d que son las constantes de proporción proporcional, \n",
    "        integral y diferencial respectivamente.\n",
    "        \"\"\"\n",
    "        p = control.TransferFunction([k_p], [1])\n",
    "        i = control.TransferFunction([k_i], [1, 0])\n",
    "        d = control.TransferFunction([k_d, 0], [1])\n",
    "        pid = p + i + d\n",
    "        \n",
    "        super().__init__(pid.num[0][0], pid.den[0][0])"
   ]
  },
  {
   "cell_type": "markdown",
   "metadata": {},
   "source": [
    "Además vamos a hacer una función que dada una función de transferencia, nos devuela la función de transferencia en lazo cerrado"
   ]
  },
  {
   "cell_type": "code",
   "execution_count": null,
   "metadata": {
    "ExecuteTime": {
     "end_time": "2021-04-16T00:43:10.025554Z",
     "start_time": "2021-04-16T00:43:09.972731Z"
    }
   },
   "outputs": [],
   "source": [
    "def closed_loop(tf):\n",
    "    return tf / (1 + tf)"
   ]
  },
  {
   "cell_type": "markdown",
   "metadata": {},
   "source": [
    "Veamos cómo es la función de lazo cerrado con solo controlador proporcional con $K_p=1$"
   ]
  },
  {
   "cell_type": "code",
   "execution_count": null,
   "metadata": {
    "ExecuteTime": {
     "end_time": "2021-04-16T00:43:10.718345Z",
     "start_time": "2021-04-16T00:43:10.031376Z"
    }
   },
   "outputs": [],
   "source": [
    "pid = PID(1, 0, 0)\n",
    "tf = closed_loop(pid * G)\n",
    "t, y = control.step_response(tf)\n",
    "\n",
    "# plot\n",
    "plt.figure()\n",
    "plt.plot(t, y)\n",
    "plt.xlabel(\"Tiempo [s]\")\n",
    "plt.ylabel(\"Respuesta al escalón y(t)\")\n",
    "plt.grid()\n",
    "plt.show()"
   ]
  },
  {
   "cell_type": "markdown",
   "metadata": {},
   "source": [
    "Notar que no estamos ni cerca del valor deseado, que eneste caso es 1. Probaremos distintas configuraciones del control PID para lograr esto. Pero antes veamos los polos del sistema que hemos creado con la función `control.pzmap` "
   ]
  },
  {
   "cell_type": "code",
   "execution_count": null,
   "metadata": {
    "ExecuteTime": {
     "end_time": "2021-04-16T00:43:11.415944Z",
     "start_time": "2021-04-16T00:43:10.809730Z"
    }
   },
   "outputs": [],
   "source": [
    "poles, zeros = control.pzmap(tf)"
   ]
  },
  {
   "cell_type": "markdown",
   "metadata": {},
   "source": [
    "Vemos que nos devuelve los polos y los ceros además de hacer un gráfico con los mismos"
   ]
  },
  {
   "cell_type": "markdown",
   "metadata": {},
   "source": [
    "Probemos nuevos valores para el control PID y veamos las respuestas en el tiempo y en los ceros y polos"
   ]
  },
  {
   "cell_type": "markdown",
   "metadata": {},
   "source": [
    "## $K_p=25, K_i = 1000, K_d = 0$"
   ]
  },
  {
   "cell_type": "code",
   "execution_count": null,
   "metadata": {
    "ExecuteTime": {
     "end_time": "2021-04-16T00:43:11.953021Z",
     "start_time": "2021-04-16T00:43:11.418186Z"
    }
   },
   "outputs": [],
   "source": [
    "pid = PID(25, 1000, 0)\n",
    "tf = closed_loop(pid * G)\n",
    "t, y = control.step_response(tf)\n",
    "\n",
    "# plot\n",
    "plt.figure()\n",
    "plt.plot(t, y)\n",
    "plt.xlabel(\"Tiempo [s]\")\n",
    "plt.ylabel(\"Respuesta al escalón y(t)\")\n",
    "plt.grid()\n",
    "plt.show()"
   ]
  },
  {
   "cell_type": "code",
   "execution_count": null,
   "metadata": {
    "ExecuteTime": {
     "end_time": "2021-04-16T00:43:12.775694Z",
     "start_time": "2021-04-16T00:43:11.976801Z"
    }
   },
   "outputs": [],
   "source": [
    "poles, zeros = control.pzmap(tf)"
   ]
  },
  {
   "cell_type": "markdown",
   "metadata": {},
   "source": [
    "## $K_p=25, K_i = 1000, K_d = 20$"
   ]
  },
  {
   "cell_type": "code",
   "execution_count": null,
   "metadata": {
    "ExecuteTime": {
     "end_time": "2021-04-16T00:43:13.614521Z",
     "start_time": "2021-04-16T00:43:12.800678Z"
    }
   },
   "outputs": [],
   "source": [
    "pid = PID(25, 1000, 20)\n",
    "tf = closed_loop(pid * G)\n",
    "t, y = control.step_response(tf)\n",
    "\n",
    "# plot\n",
    "plt.figure()\n",
    "plt.plot(t, y)\n",
    "plt.xlabel(\"Tiempo [s]\")\n",
    "plt.ylabel(\"Respuesta al escalón y(t)\")\n",
    "plt.grid()\n",
    "plt.show()"
   ]
  },
  {
   "cell_type": "code",
   "execution_count": null,
   "metadata": {
    "ExecuteTime": {
     "end_time": "2021-04-16T00:43:14.661825Z",
     "start_time": "2021-04-16T00:43:13.650560Z"
    }
   },
   "outputs": [],
   "source": [
    "poles, zeros = control.pzmap(tf)"
   ]
  },
  {
   "cell_type": "code",
   "execution_count": null,
   "metadata": {},
   "outputs": [],
   "source": []
  }
 ],
 "metadata": {
  "hide_input": false,
  "kernelspec": {
   "display_name": "control_venv",
   "language": "python",
   "name": "control_venv"
  },
  "language_info": {
   "codemirror_mode": {
    "name": "ipython",
    "version": 3
   },
   "file_extension": ".py",
   "mimetype": "text/x-python",
   "name": "python",
   "nbconvert_exporter": "python",
   "pygments_lexer": "ipython3",
   "version": "3.9.2"
  },
  "toc": {
   "base_numbering": 1,
   "nav_menu": {},
   "number_sections": true,
   "sideBar": true,
   "skip_h1_title": false,
   "title_cell": "Table of Contents",
   "title_sidebar": "Contents",
   "toc_cell": false,
   "toc_position": {},
   "toc_section_display": true,
   "toc_window_display": false
  }
 },
 "nbformat": 4,
 "nbformat_minor": 4
}
